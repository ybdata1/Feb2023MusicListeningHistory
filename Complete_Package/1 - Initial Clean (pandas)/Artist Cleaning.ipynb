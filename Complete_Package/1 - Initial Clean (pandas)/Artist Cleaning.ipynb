{
 "cells": [
  {
   "cell_type": "code",
   "execution_count": 5,
   "id": "f9592dda",
   "metadata": {},
   "outputs": [],
   "source": [
    "import pandas as pd"
   ]
  },
  {
   "cell_type": "code",
   "execution_count": 6,
   "id": "1f0f2bf4",
   "metadata": {},
   "outputs": [
    {
     "data": {
      "text/html": [
       "<div>\n",
       "<style scoped>\n",
       "    .dataframe tbody tr th:only-of-type {\n",
       "        vertical-align: middle;\n",
       "    }\n",
       "\n",
       "    .dataframe tbody tr th {\n",
       "        vertical-align: top;\n",
       "    }\n",
       "\n",
       "    .dataframe thead th {\n",
       "        text-align: right;\n",
       "    }\n",
       "</style>\n",
       "<table border=\"1\" class=\"dataframe\">\n",
       "  <thead>\n",
       "    <tr style=\"text-align: right;\">\n",
       "      <th></th>\n",
       "      <th>Artist</th>\n",
       "      <th>Current_Location</th>\n",
       "      <th>Spotify_Monthly_Listeners</th>\n",
       "      <th>Gender</th>\n",
       "    </tr>\n",
       "  </thead>\n",
       "  <tbody>\n",
       "    <tr>\n",
       "      <th>0</th>\n",
       "      <td>The Weeknd</td>\n",
       "      <td>Toronto, Ontario, Canada</td>\n",
       "      <td>104257338</td>\n",
       "      <td>M</td>\n",
       "    </tr>\n",
       "    <tr>\n",
       "      <th>1</th>\n",
       "      <td>K. Forest</td>\n",
       "      <td>Toronto, Ontario, Canada</td>\n",
       "      <td>413753</td>\n",
       "      <td>M</td>\n",
       "    </tr>\n",
       "    <tr>\n",
       "      <th>2</th>\n",
       "      <td>Future</td>\n",
       "      <td>Atlanta, Georgia, United States</td>\n",
       "      <td>45904432</td>\n",
       "      <td>M</td>\n",
       "    </tr>\n",
       "    <tr>\n",
       "      <th>3</th>\n",
       "      <td>KayCyy</td>\n",
       "      <td>Los Angeles, California, United States</td>\n",
       "      <td>509440</td>\n",
       "      <td>M</td>\n",
       "    </tr>\n",
       "    <tr>\n",
       "      <th>4</th>\n",
       "      <td>PLAZA</td>\n",
       "      <td>Montreal, Québec, Canada</td>\n",
       "      <td>941968</td>\n",
       "      <td>M</td>\n",
       "    </tr>\n",
       "  </tbody>\n",
       "</table>\n",
       "</div>"
      ],
      "text/plain": [
       "       Artist                        Current_Location  \\\n",
       "0  The Weeknd                Toronto, Ontario, Canada   \n",
       "1   K. Forest                Toronto, Ontario, Canada   \n",
       "2      Future         Atlanta, Georgia, United States   \n",
       "3      KayCyy  Los Angeles, California, United States   \n",
       "4       PLAZA                Montreal, Québec, Canada   \n",
       "\n",
       "   Spotify_Monthly_Listeners Gender  \n",
       "0                  104257338      M  \n",
       "1                     413753      M  \n",
       "2                   45904432      M  \n",
       "3                     509440      M  \n",
       "4                     941968      M  "
      ]
     },
     "execution_count": 6,
     "metadata": {},
     "output_type": "execute_result"
    }
   ],
   "source": [
    "# import Artist.csv into a pandas dataframe\n",
    "df = pd.read_csv(\"Artists.csv\", encoding = \"utf-8-sig\").dropna(how = \"all\")\n",
    "df.head()"
   ]
  },
  {
   "cell_type": "code",
   "execution_count": 7,
   "id": "e59bf383",
   "metadata": {},
   "outputs": [
    {
     "name": "stdout",
     "output_type": "stream",
     "text": [
      "<class 'pandas.core.frame.DataFrame'>\n",
      "RangeIndex: 44 entries, 0 to 43\n",
      "Data columns (total 4 columns):\n",
      " #   Column                     Non-Null Count  Dtype \n",
      "---  ------                     --------------  ----- \n",
      " 0   Artist                     44 non-null     object\n",
      " 1   Current_Location           44 non-null     object\n",
      " 2   Spotify_Monthly_Listeners  44 non-null     int64 \n",
      " 3   Gender                     44 non-null     object\n",
      "dtypes: int64(1), object(3)\n",
      "memory usage: 1.5+ KB\n"
     ]
    }
   ],
   "source": [
    "# preview data types\n",
    "df.info()"
   ]
  },
  {
   "cell_type": "code",
   "execution_count": 8,
   "id": "531eab7b",
   "metadata": {},
   "outputs": [],
   "source": [
    "# trim/format cells\n",
    "df[\"Artist\"] = df[\"Artist\"].str.strip()\n",
    "df[\"Current_Location\"] = df[\"Current_Location\"].str.strip()\n",
    "df[\"Gender\"] = df[\"Gender\"].str.strip()"
   ]
  },
  {
   "cell_type": "code",
   "execution_count": 9,
   "id": "84a8f16c",
   "metadata": {},
   "outputs": [
    {
     "data": {
      "text/html": [
       "<div>\n",
       "<style scoped>\n",
       "    .dataframe tbody tr th:only-of-type {\n",
       "        vertical-align: middle;\n",
       "    }\n",
       "\n",
       "    .dataframe tbody tr th {\n",
       "        vertical-align: top;\n",
       "    }\n",
       "\n",
       "    .dataframe thead th {\n",
       "        text-align: right;\n",
       "    }\n",
       "</style>\n",
       "<table border=\"1\" class=\"dataframe\">\n",
       "  <thead>\n",
       "    <tr style=\"text-align: right;\">\n",
       "      <th></th>\n",
       "      <th>Artist</th>\n",
       "      <th>Current_Location</th>\n",
       "      <th>Spotify_Monthly_Listeners</th>\n",
       "      <th>Gender</th>\n",
       "      <th>Location_City</th>\n",
       "      <th>Location_State/Province</th>\n",
       "      <th>Location_Country</th>\n",
       "    </tr>\n",
       "  </thead>\n",
       "  <tbody>\n",
       "    <tr>\n",
       "      <th>0</th>\n",
       "      <td>The Weeknd</td>\n",
       "      <td>Toronto, Ontario, Canada</td>\n",
       "      <td>104257338</td>\n",
       "      <td>M</td>\n",
       "      <td>Toronto</td>\n",
       "      <td>Ontario</td>\n",
       "      <td>Canada</td>\n",
       "    </tr>\n",
       "    <tr>\n",
       "      <th>1</th>\n",
       "      <td>K. Forest</td>\n",
       "      <td>Toronto, Ontario, Canada</td>\n",
       "      <td>413753</td>\n",
       "      <td>M</td>\n",
       "      <td>Toronto</td>\n",
       "      <td>Ontario</td>\n",
       "      <td>Canada</td>\n",
       "    </tr>\n",
       "    <tr>\n",
       "      <th>2</th>\n",
       "      <td>Future</td>\n",
       "      <td>Atlanta, Georgia, United States</td>\n",
       "      <td>45904432</td>\n",
       "      <td>M</td>\n",
       "      <td>Atlanta</td>\n",
       "      <td>Georgia</td>\n",
       "      <td>United States</td>\n",
       "    </tr>\n",
       "    <tr>\n",
       "      <th>3</th>\n",
       "      <td>KayCyy</td>\n",
       "      <td>Los Angeles, California, United States</td>\n",
       "      <td>509440</td>\n",
       "      <td>M</td>\n",
       "      <td>Los Angeles</td>\n",
       "      <td>California</td>\n",
       "      <td>United States</td>\n",
       "    </tr>\n",
       "    <tr>\n",
       "      <th>4</th>\n",
       "      <td>PLAZA</td>\n",
       "      <td>Montreal, Québec, Canada</td>\n",
       "      <td>941968</td>\n",
       "      <td>M</td>\n",
       "      <td>Montreal</td>\n",
       "      <td>Québec</td>\n",
       "      <td>Canada</td>\n",
       "    </tr>\n",
       "  </tbody>\n",
       "</table>\n",
       "</div>"
      ],
      "text/plain": [
       "       Artist                        Current_Location  \\\n",
       "0  The Weeknd                Toronto, Ontario, Canada   \n",
       "1   K. Forest                Toronto, Ontario, Canada   \n",
       "2      Future         Atlanta, Georgia, United States   \n",
       "3      KayCyy  Los Angeles, California, United States   \n",
       "4       PLAZA                Montreal, Québec, Canada   \n",
       "\n",
       "   Spotify_Monthly_Listeners Gender Location_City Location_State/Province  \\\n",
       "0                  104257338      M       Toronto                 Ontario   \n",
       "1                     413753      M       Toronto                 Ontario   \n",
       "2                   45904432      M       Atlanta                 Georgia   \n",
       "3                     509440      M   Los Angeles              California   \n",
       "4                     941968      M      Montreal                  Québec   \n",
       "\n",
       "  Location_Country  \n",
       "0           Canada  \n",
       "1           Canada  \n",
       "2    United States  \n",
       "3    United States  \n",
       "4           Canada  "
      ]
     },
     "execution_count": 9,
     "metadata": {},
     "output_type": "execute_result"
    }
   ],
   "source": [
    "# split location into city, state/province, and country\n",
    "df[[\"Location_City\", \"Location_State/Province\", \"Location_Country\"]] = df[\"Current_Location\"].str.split(\",\", expand = True, n = 2)\n",
    "df.head()"
   ]
  },
  {
   "cell_type": "code",
   "execution_count": 10,
   "id": "b8994a5f",
   "metadata": {},
   "outputs": [],
   "source": [
    "# add index/Primary Key column\n",
    "df[\"Artist_PK\"] = df.index\n",
    "df[\"Artist_PK\"] = df[\"Artist_PK\"] + 1"
   ]
  },
  {
   "cell_type": "code",
   "execution_count": 11,
   "id": "f9ddc75e",
   "metadata": {},
   "outputs": [],
   "source": [
    "# export to csv\n",
    "df.to_csv(\"Artists_PD_CLEANED\", encoding = 'utf-8-sig', index = False)"
   ]
  }
 ],
 "metadata": {
  "kernelspec": {
   "display_name": "Python 3 (ipykernel)",
   "language": "python",
   "name": "python3"
  },
  "language_info": {
   "codemirror_mode": {
    "name": "ipython",
    "version": 3
   },
   "file_extension": ".py",
   "mimetype": "text/x-python",
   "name": "python",
   "nbconvert_exporter": "python",
   "pygments_lexer": "ipython3",
   "version": "3.9.13"
  }
 },
 "nbformat": 4,
 "nbformat_minor": 5
}
