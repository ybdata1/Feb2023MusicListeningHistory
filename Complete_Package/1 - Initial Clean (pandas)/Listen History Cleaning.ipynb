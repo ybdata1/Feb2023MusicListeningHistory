{
 "cells": [
  {
   "cell_type": "code",
   "execution_count": 1,
   "id": "164c92c3",
   "metadata": {},
   "outputs": [],
   "source": [
    "import pandas as pd"
   ]
  },
  {
   "cell_type": "code",
   "execution_count": 2,
   "id": "b3ae3f60",
   "metadata": {},
   "outputs": [
    {
     "data": {
      "text/html": [
       "<div>\n",
       "<style scoped>\n",
       "    .dataframe tbody tr th:only-of-type {\n",
       "        vertical-align: middle;\n",
       "    }\n",
       "\n",
       "    .dataframe tbody tr th {\n",
       "        vertical-align: top;\n",
       "    }\n",
       "\n",
       "    .dataframe thead th {\n",
       "        text-align: right;\n",
       "    }\n",
       "</style>\n",
       "<table border=\"1\" class=\"dataframe\">\n",
       "  <thead>\n",
       "    <tr style=\"text-align: right;\">\n",
       "      <th></th>\n",
       "      <th>Date_Listened</th>\n",
       "      <th>Song_Name</th>\n",
       "      <th>Artist</th>\n",
       "      <th>Feature_Artists</th>\n",
       "      <th>Album</th>\n",
       "      <th>Duration</th>\n",
       "      <th>Genre</th>\n",
       "      <th>Subgenre</th>\n",
       "      <th>Tempo_BPM</th>\n",
       "      <th>Key_Signature</th>\n",
       "      <th>Album_Release_Date</th>\n",
       "    </tr>\n",
       "  </thead>\n",
       "  <tbody>\n",
       "    <tr>\n",
       "      <th>0</th>\n",
       "      <td>2023-02-01</td>\n",
       "      <td>Twenty Eight</td>\n",
       "      <td>The Weeknd</td>\n",
       "      <td>NaN</td>\n",
       "      <td>Trilogy</td>\n",
       "      <td>258</td>\n",
       "      <td>R&amp;B</td>\n",
       "      <td>Alternative R&amp;B</td>\n",
       "      <td>130</td>\n",
       "      <td>D# Minor</td>\n",
       "      <td>2012-11-13</td>\n",
       "    </tr>\n",
       "    <tr>\n",
       "      <th>1</th>\n",
       "      <td>2023-02-01</td>\n",
       "      <td>Bad Neighbors</td>\n",
       "      <td>K. Forest</td>\n",
       "      <td>NaN</td>\n",
       "      <td>Welcome to the Wildfire</td>\n",
       "      <td>160</td>\n",
       "      <td>R&amp;B</td>\n",
       "      <td>Contemporary R&amp;B</td>\n",
       "      <td>120</td>\n",
       "      <td>D# Minor</td>\n",
       "      <td>2021-03-19</td>\n",
       "    </tr>\n",
       "    <tr>\n",
       "      <th>2</th>\n",
       "      <td>2023-02-01</td>\n",
       "      <td>Mask Off</td>\n",
       "      <td>Future</td>\n",
       "      <td>NaN</td>\n",
       "      <td>FUTURE</td>\n",
       "      <td>204</td>\n",
       "      <td>Hip-Hop</td>\n",
       "      <td>Trap</td>\n",
       "      <td>150</td>\n",
       "      <td>D Major</td>\n",
       "      <td>2017-06-30</td>\n",
       "    </tr>\n",
       "    <tr>\n",
       "      <th>3</th>\n",
       "      <td>2023-02-01</td>\n",
       "      <td>Hold you up (feat. Annahstasia &amp; Steven Bamidele)</td>\n",
       "      <td>KayCyy</td>\n",
       "      <td>Annahstasia, Steven Bamidele</td>\n",
       "      <td>Get Used To It</td>\n",
       "      <td>236</td>\n",
       "      <td>Soul</td>\n",
       "      <td>Alternative Soul</td>\n",
       "      <td>200</td>\n",
       "      <td>A# Minor</td>\n",
       "      <td>2022-06-02</td>\n",
       "    </tr>\n",
       "    <tr>\n",
       "      <th>4</th>\n",
       "      <td>2023-02-01</td>\n",
       "      <td>Live For</td>\n",
       "      <td>The Weeknd</td>\n",
       "      <td>Drake</td>\n",
       "      <td>Kiss Land</td>\n",
       "      <td>222</td>\n",
       "      <td>R&amp;B</td>\n",
       "      <td>Alternative R&amp;B</td>\n",
       "      <td>76</td>\n",
       "      <td>C Major</td>\n",
       "      <td>2013-01-01</td>\n",
       "    </tr>\n",
       "  </tbody>\n",
       "</table>\n",
       "</div>"
      ],
      "text/plain": [
       "  Date_Listened                                          Song_Name  \\\n",
       "0    2023-02-01                                       Twenty Eight   \n",
       "1    2023-02-01                                      Bad Neighbors   \n",
       "2    2023-02-01                                           Mask Off   \n",
       "3    2023-02-01  Hold you up (feat. Annahstasia & Steven Bamidele)   \n",
       "4    2023-02-01                                           Live For   \n",
       "\n",
       "       Artist               Feature_Artists                    Album  \\\n",
       "0  The Weeknd                           NaN                  Trilogy   \n",
       "1   K. Forest                           NaN  Welcome to the Wildfire   \n",
       "2      Future                           NaN                   FUTURE   \n",
       "3      KayCyy  Annahstasia, Steven Bamidele          Get Used To It    \n",
       "4  The Weeknd                         Drake                Kiss Land   \n",
       "\n",
       "   Duration    Genre          Subgenre  Tempo_BPM Key_Signature  \\\n",
       "0       258      R&B   Alternative R&B        130      D# Minor   \n",
       "1       160      R&B  Contemporary R&B        120      D# Minor   \n",
       "2       204  Hip-Hop              Trap        150       D Major   \n",
       "3       236     Soul  Alternative Soul        200      A# Minor   \n",
       "4       222      R&B   Alternative R&B         76       C Major   \n",
       "\n",
       "  Album_Release_Date  \n",
       "0         2012-11-13  \n",
       "1         2021-03-19  \n",
       "2         2017-06-30  \n",
       "3         2022-06-02  \n",
       "4         2013-01-01  "
      ]
     },
     "execution_count": 2,
     "metadata": {},
     "output_type": "execute_result"
    }
   ],
   "source": [
    "# import FebListenHistory.csv into a pandas dataframe\n",
    "df = pd.read_csv(\"FebListenHistory.csv\", parse_dates = [\"Date_Listened\", \"Album_Release_Date\"], encoding = \"utf-8-sig\").dropna(how = \"all\")\n",
    "df.head()"
   ]
  },
  {
   "cell_type": "code",
   "execution_count": 3,
   "id": "7a8c33eb",
   "metadata": {},
   "outputs": [],
   "source": [
    "# trim cells\n",
    "df[\"Song_Name\"] = df[\"Song_Name\"].str.strip()\n",
    "df[\"Artist\"] = df[\"Artist\"].str.strip()\n",
    "df[\"Feature_Artists\"] = df[\"Feature_Artists\"].str.strip()\n",
    "df[\"Album\"] = df[\"Album\"].str.strip()\n",
    "df[\"Genre\"] = df[\"Genre\"].str.strip()\n",
    "df[\"Subgenre\"] = df[\"Subgenre\"].str.strip()\n",
    "df[\"Key_Signature\"] = df[\"Key_Signature\"].str.strip().str.title()"
   ]
  },
  {
   "cell_type": "code",
   "execution_count": 4,
   "id": "1f9468fb",
   "metadata": {},
   "outputs": [
    {
     "name": "stdout",
     "output_type": "stream",
     "text": [
      "<class 'pandas.core.frame.DataFrame'>\n",
      "RangeIndex: 902 entries, 0 to 901\n",
      "Data columns (total 11 columns):\n",
      " #   Column              Non-Null Count  Dtype         \n",
      "---  ------              --------------  -----         \n",
      " 0   Date_Listened       902 non-null    datetime64[ns]\n",
      " 1   Song_Name           902 non-null    object        \n",
      " 2   Artist              902 non-null    object        \n",
      " 3   Feature_Artists     136 non-null    object        \n",
      " 4   Album               902 non-null    object        \n",
      " 5   Duration            902 non-null    int64         \n",
      " 6   Genre               902 non-null    object        \n",
      " 7   Subgenre            902 non-null    object        \n",
      " 8   Tempo_BPM           902 non-null    int64         \n",
      " 9   Key_Signature       902 non-null    object        \n",
      " 10  Album_Release_Date  902 non-null    datetime64[ns]\n",
      "dtypes: datetime64[ns](2), int64(2), object(7)\n",
      "memory usage: 77.6+ KB\n"
     ]
    }
   ],
   "source": [
    "# preview data types\n",
    "df.info()"
   ]
  },
  {
   "cell_type": "code",
   "execution_count": 5,
   "id": "7a7f6796",
   "metadata": {},
   "outputs": [],
   "source": [
    "# determine which string columns can be converted to categories to improve memory usage\n",
    "df.nunique()\n",
    "# Convert Genre, Subgenre, and Key_Signature to type category\n",
    "df[\"Genre\"] = df[\"Genre\"].astype(\"category\")\n",
    "df[\"Subgenre\"] = df[\"Subgenre\"].astype(\"category\")\n",
    "df[\"Key_Signature\"] = df[\"Key_Signature\"].astype(\"category\")"
   ]
  },
  {
   "cell_type": "code",
   "execution_count": 6,
   "id": "7ff36363",
   "metadata": {},
   "outputs": [],
   "source": [
    "# add index/Primary Key column\n",
    "df[\"Listen_History_PK\"] = df.index\n",
    "df[\"Listen_History_PK\"] = df[\"Listen_History_PK\"] + 1101"
   ]
  },
  {
   "cell_type": "code",
   "execution_count": 7,
   "id": "b6cdf34f",
   "metadata": {},
   "outputs": [],
   "source": [
    "# export to csv\n",
    "df.to_csv(\"FebListenHistory_PD_CLEANED\", encoding = 'utf-8-sig', index = False)"
   ]
  }
 ],
 "metadata": {
  "kernelspec": {
   "display_name": "Python 3 (ipykernel)",
   "language": "python",
   "name": "python3"
  },
  "language_info": {
   "codemirror_mode": {
    "name": "ipython",
    "version": 3
   },
   "file_extension": ".py",
   "mimetype": "text/x-python",
   "name": "python",
   "nbconvert_exporter": "python",
   "pygments_lexer": "ipython3",
   "version": "3.9.13"
  }
 },
 "nbformat": 4,
 "nbformat_minor": 5
}
