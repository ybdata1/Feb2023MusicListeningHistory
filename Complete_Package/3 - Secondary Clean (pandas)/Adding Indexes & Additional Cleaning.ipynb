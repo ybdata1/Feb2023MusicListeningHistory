{
 "cells": [
  {
   "cell_type": "code",
   "execution_count": 51,
   "id": "8ec16c67",
   "metadata": {},
   "outputs": [],
   "source": [
    "import pandas as pd"
   ]
  },
  {
   "cell_type": "code",
   "execution_count": 52,
   "id": "74e9fe1d",
   "metadata": {},
   "outputs": [],
   "source": [
    "# import csv files to dataframes\n",
    "df_ListenHistoryFact = pd.read_csv(\"ListenHistory_Fact.csv\", parse_dates = [\"Date_Listened\", \"Album_Release_Date\"], encoding = \"latin-1\").dropna(how = \"all\")\n",
    "df_SongDim = pd.read_csv(\"Song_Dim.csv\", parse_dates = [\"Album_Release_Date\"], encoding = \"latin-1\").dropna(how = \"all\")\n",
    "df_ArtistDim = pd.read_csv(\"Artist_Dim.csv\", encoding = \"latin-1\").dropna(how = \"all\")\n",
    "df_GenreDim = pd.read_csv(\"Genre_Dim.csv\", encoding = \"latin-1\").dropna(how = \"all\")\n",
    "df_SubgenreDim = pd.read_csv(\"Subgenre_Dim.csv\", encoding = \"latin-1\").dropna(how = \"all\")"
   ]
  },
  {
   "cell_type": "code",
   "execution_count": 53,
   "id": "be71be2a",
   "metadata": {},
   "outputs": [],
   "source": [
    "# add indexes/PKs to dim tables\n",
    "df_SongDim[\"Song_PK\"] = df_SongDim.index\n",
    "df_SongDim[\"Song_PK\"] = df_SongDim[\"Song_PK\"] + 1\n",
    "\n",
    "df_GenreDim[\"Genre_PK\"] = df_GenreDim.index\n",
    "df_GenreDim[\"Genre_PK\"] = df_GenreDim[\"Genre_PK\"] + 1\n",
    "\n",
    "df_SubgenreDim[\"Subgenre_PK\"] = df_SubgenreDim.index\n",
    "df_SubgenreDim[\"Subgenre_PK\"] = df_SubgenreDim[\"Subgenre_PK\"] + 1"
   ]
  },
  {
   "cell_type": "code",
   "execution_count": 54,
   "id": "01d1a402",
   "metadata": {},
   "outputs": [],
   "source": [
    "# Replace duplicate values in tables with respective FKs. Be careful to follow the flow of the data\n",
    "df_SubgenreDim[\"Genre\"] = df_SubgenreDim[\"Genre\"].map(df_GenreDim.set_index(\"Genre\")[\"Genre_PK\"])\n",
    "\n",
    "df_SongDim[\"Artist\"] = df_SongDim[\"Artist\"].map(df_ArtistDim.set_index(\"Artist\")[\"Artist_PK\"])\n",
    "\n",
    "df_SongDim[\"Subgenre\"] = df_SongDim[\"Subgenre\"].map(df_SubgenreDim.set_index(\"Subgenre\")[\"Subgenre_PK\"])\n",
    "\n",
    "df_ListenHistoryFact[\"Song_Name\"] = df_ListenHistoryFact[\"Song_Name\"].map(df_SongDim.set_index(\"Song_Name\")[\"Song_PK\"])"
   ]
  },
  {
   "cell_type": "code",
   "execution_count": 55,
   "id": "c940fc82",
   "metadata": {},
   "outputs": [],
   "source": [
    "# drop redundant columns from fact table\n",
    "df_ListenHistoryFact.head()\n",
    "df_ListenHistoryFact = df_ListenHistoryFact.drop(columns = ['Artist', \n",
    "                                     'Feature_Artists', \n",
    "                                     'Album',\n",
    "                                     'Duration',\n",
    "                                     'Genre',\n",
    "                                     'Subgenre',\n",
    "                                     'Tempo_BPM',\n",
    "                                     'Key_Signature',\n",
    "                                     'Album_Release_Date'])"
   ]
  },
  {
   "cell_type": "code",
   "execution_count": 56,
   "id": "cb4c4a69",
   "metadata": {},
   "outputs": [],
   "source": [
    "# export cleaned dataframes to csv files\n",
    "df_ListenHistoryFact.to_csv(\"ListenHistoryFact_FINAL\", encoding = 'latin-1', index = False)\n",
    "df_SongDim.to_csv(\"SongDim_FINAL\", encoding = 'latin-1', index = False)\n",
    "df_ArtistDim.to_csv(\"ArtistDim_FINAL\", encoding = 'latin-1', index = False)\n",
    "df_GenreDim.to_csv(\"GenreDim_FINAL\", encoding = 'latin-1', index = False)\n",
    "df_SubgenreDim.to_csv(\"SubgenreDim_FINAL\", encoding = 'latin-1', index = False)"
   ]
  }
 ],
 "metadata": {
  "kernelspec": {
   "display_name": "Python 3 (ipykernel)",
   "language": "python",
   "name": "python3"
  },
  "language_info": {
   "codemirror_mode": {
    "name": "ipython",
    "version": 3
   },
   "file_extension": ".py",
   "mimetype": "text/x-python",
   "name": "python",
   "nbconvert_exporter": "python",
   "pygments_lexer": "ipython3",
   "version": "3.9.13"
  }
 },
 "nbformat": 4,
 "nbformat_minor": 5
}
